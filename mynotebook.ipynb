{
 "cells": [
  {
   "cell_type": "code",
   "execution_count": 8,
   "metadata": {},
   "outputs": [
    {
     "name": "stdout",
     "output_type": "stream",
     "text": [
      "download: s3://ryft-public-sample-data/twitter/russian-troll/IRAhandle_tweets_9.csv to ./mylocalfile.csv\n",
      "Requirement already satisfied: tabulate in /home/ec2-user/anaconda3/envs/python3/lib/python3.6/site-packages (0.8.6)\n",
      "\u001b[33mYou are using pip version 10.0.1, however version 20.0.2 is available.\n",
      "You should consider upgrading via the 'pip install --upgrade pip' command.\u001b[0m\n"
     ]
    }
   ],
   "source": [
    "!aws s3 cp s3://ryft-public-sample-data/twitter/russian-troll/IRAhandle_tweets_9.csv mylocalfile.csv\n",
    "!head -n 1000 mylocalfile.csv > mylocalfile_small.csv\n",
    "!pip install tabulate"
   ]
  },
  {
   "cell_type": "code",
   "execution_count": 45,
   "metadata": {},
   "outputs": [],
   "source": [
    "#fire-instance     ml.c4.xlarge\n",
    "#fire-container    pytorch-1.3.1\n",
    "#fire-requirements tabulate\n",
    "#fire-modules      mymodule.py\n",
    "#fire-bucket       ryft-public-sample-data"
   ]
  },
  {
   "cell_type": "code",
   "execution_count": 9,
   "metadata": {},
   "outputs": [
    {
     "name": "stdout",
     "output_type": "stream",
     "text": [
      "Path: mylocalfile_small.csv\n",
      "File was properly loaded, shape: (999, 15)\n"
     ]
    }
   ],
   "source": [
    "import pandas as pd\n",
    "import tabulate\n",
    "\n",
    "PATH = 'mylocalfile_small.csv'\n",
    "#fire-file PATH twitter/russian-troll/IRAhandle_tweets_9.csv\n",
    "\n",
    "print('Path:', PATH)\n",
    "\n",
    "df= pd.read_csv(PATH)\n",
    "print('File was properly loaded, shape:', df.shape)"
   ]
  },
  {
   "cell_type": "code",
   "execution_count": 2,
   "metadata": {},
   "outputs": [
    {
     "name": "stdout",
     "output_type": "stream",
     "text": [
      "-  -  -  -  -  -  -  -  -  -  -  -    -  -  -  -  -  -  -  -  -  -\n",
      "t  a  b  u  l  a  t  e\n",
      "w  a  s     p  r  o  p  e  r  l  y    i  n  s  t  a  l  l  e  d  !\n",
      "-  -  -  -  -  -  -  -  -  -  -  -    -  -  -  -  -  -  -  -  -  -\n"
     ]
    }
   ],
   "source": [
    "from tabulate import tabulate\n",
    "\n",
    "print(tabulate(['tabulate', 'was properly installed!']))"
   ]
  },
  {
   "cell_type": "code",
   "execution_count": 3,
   "metadata": {},
   "outputs": [
    {
     "name": "stdout",
     "output_type": "stream",
     "text": [
      "mymodule was properly installed!\n"
     ]
    }
   ],
   "source": [
    "from mymodule import myfunction\n",
    "\n",
    "myfunction()"
   ]
  },
  {
   "cell_type": "code",
   "execution_count": 5,
   "metadata": {},
   "outputs": [
    {
     "name": "stdout",
     "output_type": "stream",
     "text": [
      "EPOCHS: 10\n"
     ]
    }
   ],
   "source": [
    "EPOCHS = 10         \n",
    "#fire-insert EPOCHS = 40\n",
    "\n",
    "print('EPOCHS:', EPOCHS)"
   ]
  },
  {
   "cell_type": "code",
   "execution_count": null,
   "metadata": {},
   "outputs": [],
   "source": []
  }
 ],
 "metadata": {
  "kernelspec": {
   "display_name": "conda_python3",
   "language": "python",
   "name": "conda_python3"
  },
  "language_info": {
   "codemirror_mode": {
    "name": "ipython",
    "version": 3
   },
   "file_extension": ".py",
   "mimetype": "text/x-python",
   "name": "python",
   "nbconvert_exporter": "python",
   "pygments_lexer": "ipython3",
   "version": "3.6.5"
  }
 },
 "nbformat": 4,
 "nbformat_minor": 4
}
